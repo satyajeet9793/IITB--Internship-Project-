{
  "nbformat": 4,
  "nbformat_minor": 0,
  "metadata": {
    "colab": {
      "provenance": []
    },
    "kernelspec": {
      "name": "python3",
      "display_name": "Python 3"
    },
    "language_info": {
      "name": "python"
    }
  },
  "cells": [
    {
      "cell_type": "code",
      "source": [
        "# 02_preprocessing_pipeline.ipynb\n",
        "# IITB EdTech Internship 2025 – Problem ID 7\n",
        "# STEP 2: Preprocessing Pipeline (Cleaning, Alignment, Standardization)\n",
        "\n",
        "from google.colab import drive\n",
        "drive.mount('/content/drive')\n",
        "\n",
        "import pandas as pd\n",
        "import numpy as np\n",
        "import cv2\n",
        "import os\n",
        "from pathlib import Path\n",
        "import pickle\n",
        "import logging\n",
        "from tqdm.notebook import tqdm\n",
        "import matplotlib.pyplot as plt\n",
        "\n",
        "# === CONFIG ===\n",
        "DATASET_ROOT = Path(\"/content/drive/MyDrive/STData/STData\")\n",
        "RESULTS_ROOT = Path(\"/content/results\")\n",
        "RESULTS_ROOT.mkdir(exist_ok=True)\n",
        "\n",
        "# Input from STEP 1\n",
        "TRIAL_FIX = RESULTS_ROOT / \"trial_fixations.csv\"\n",
        "STIM_META = RESULTS_ROOT / \"stimulus_metadata.csv\"\n",
        "PREPROC_DIR = RESULTS_ROOT / \"preprocessed\"\n",
        "(PREPROC_DIR / \"step2\").mkdir(exist_ok=True)\n",
        "\n",
        "# Output\n",
        "CLEANED_FIX = PREPROC_DIR / \"step2\" / \"cleaned_fixations.csv\"\n",
        "ZSCORED_FIX = PREPROC_DIR / \"step2\" / \"zscored_fixations.csv\"\n",
        "STANDARD_CANVAS = (800, 600)  # Common canvas size\n",
        "\n",
        "# Logging\n",
        "(LOGS := RESULTS_ROOT / \"logs\").mkdir(exist_ok=True)\n",
        "logging.basicConfig(\n",
        "    filename=LOGS / \"step2_preprocessing.log\",\n",
        "    level=logging.INFO,\n",
        "    format='%(asctime)s | %(levelname)s | %(message)s'\n",
        ")\n",
        "log = logging.getLogger()\n",
        "\n",
        "print(\"STEP 2: Preprocessing Pipeline Started\")"
      ],
      "metadata": {
        "colab": {
          "base_uri": "https://localhost:8080/"
        },
        "id": "F0aJk4-_HyOt",
        "outputId": "8cbf2fdf-c01e-42ab-afb2-006461af54a4"
      },
      "execution_count": null,
      "outputs": [
        {
          "output_type": "stream",
          "name": "stdout",
          "text": [
            "Drive already mounted at /content/drive; to attempt to forcibly remount, call drive.mount(\"/content/drive\", force_remount=True).\n",
            "STEP 2: Preprocessing Pipeline Started\n"
          ]
        }
      ]
    }
  ]
}